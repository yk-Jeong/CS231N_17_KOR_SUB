{
  "nbformat": 4,
  "nbformat_minor": 0,
  "metadata": {
    "colab": {
      "name": "파이썬스터디_11주차.ipynb",
      "provenance": [],
      "collapsed_sections": [],
      "authorship_tag": "ABX9TyOQazXvmQOy3Ub3FUZfoHrf",
      "include_colab_link": true
    },
    "kernelspec": {
      "name": "python3",
      "display_name": "Python 3"
    },
    "language_info": {
      "name": "python"
    }
  },
  "cells": [
    {
      "cell_type": "markdown",
      "metadata": {
        "id": "view-in-github",
        "colab_type": "text"
      },
      "source": [
        "<a href=\"https://colab.research.google.com/github/yk-Jeong/CS231N_17_KOR_SUB/blob/master/%ED%8C%8C%EC%9D%B4%EC%8D%AC%EC%8A%A4%ED%84%B0%EB%94%94_11%EC%A3%BC%EC%B0%A8.ipynb\" target=\"_parent\"><img src=\"https://colab.research.google.com/assets/colab-badge.svg\" alt=\"Open In Colab\"/></a>"
      ]
    },
    {
      "cell_type": "markdown",
      "source": [
        "**오늘은 간단하게 문제로 시작**\n",
        "\n",
        "Q1-1. while문을 사용해 1에서 10까지 합계를 구하는 프로그램을 만들어보자.\n",
        "\n",
        "힌트 없음!\n"
      ],
      "metadata": {
        "id": "lnICZvjaTVP7"
      }
    },
    {
      "cell_type": "code",
      "execution_count": 14,
      "metadata": {
        "colab": {
          "base_uri": "https://localhost:8080/"
        },
        "id": "lZhJPxjGSXEV",
        "outputId": "cf74f6e0-1a10-4e3f-8ff5-c85db1a7eff4"
      },
      "outputs": [
        {
          "output_type": "stream",
          "name": "stdout",
          "text": [
            "55\n"
          ]
        }
      ],
      "source": [
        "a = 0\n",
        "sum = 0\n",
        "while a <= 10:\n",
        "  sum = sum + a\n",
        "  a = a+1\n",
        "print(sum)"
      ]
    },
    {
      "cell_type": "markdown",
      "source": [
        "Q1-2.앞에서 만든 코드를 for문을 쓰는 코드로 변경해 보자. "
      ],
      "metadata": {
        "id": "KvbUXcj-U2N4"
      }
    },
    {
      "cell_type": "code",
      "source": [
        "a, sum = 0, 0\n",
        "\n",
        "for a in range(0, 11):\n",
        "  sum = sum+a\n",
        "  a += a\n",
        "print(sum)"
      ],
      "metadata": {
        "colab": {
          "base_uri": "https://localhost:8080/"
        },
        "id": "JQ76HmGBTknt",
        "outputId": "f349ae28-acdf-4fd0-889c-66b962fc4406"
      },
      "execution_count": 17,
      "outputs": [
        {
          "output_type": "stream",
          "name": "stdout",
          "text": [
            "55\n"
          ]
        }
      ]
    },
    {
      "cell_type": "code",
      "source": [
        "#위 코드를 더 간결하게 하면\n",
        "\n",
        "sum = 0\n",
        "for a in range(1, 11):\n",
        "  sum = sum+a\n",
        "print(sum)"
      ],
      "metadata": {
        "colab": {
          "base_uri": "https://localhost:8080/"
        },
        "id": "6D56buQkVyCq",
        "outputId": "3078dd79-dfc6-4697-da7e-84f0f4b28dfa"
      },
      "execution_count": 19,
      "outputs": [
        {
          "output_type": "stream",
          "name": "stdout",
          "text": [
            "55\n"
          ]
        }
      ]
    },
    {
      "cell_type": "markdown",
      "source": [
        "Q2-1. for문으로 ***** 5줄 찍기 \n",
        "<pre>\n",
        "*****\n",
        "*****\n",
        "*****\n",
        "*****\n",
        "*****</pre>"
      ],
      "metadata": {
        "id": "YqbD4UWsZBFY"
      }
    },
    {
      "cell_type": "code",
      "source": [
        "for i in range(1, 6):\n",
        "  for i in range(1, 6):\n",
        "    print(\"*\", end=\"\")\n",
        "  print('')"
      ],
      "metadata": {
        "colab": {
          "base_uri": "https://localhost:8080/"
        },
        "id": "2FB1OIQOX5hE",
        "outputId": "93ea4af4-dcf9-4a8c-88e5-1bb1578ae9a2"
      },
      "execution_count": 51,
      "outputs": [
        {
          "output_type": "stream",
          "name": "stdout",
          "text": [
            "*****\n",
            "*****\n",
            "*****\n",
            "*****\n",
            "*****\n"
          ]
        }
      ]
    },
    {
      "cell_type": "code",
      "source": [
        "#근데 생각해 보면 그냥 *****를 5번 하기만 하면 됨 \n",
        "\n",
        "for i in range(0, 5):\n",
        "  print(\"*****\")"
      ],
      "metadata": {
        "colab": {
          "base_uri": "https://localhost:8080/"
        },
        "id": "JFAGH-2sZqnV",
        "outputId": "f1a36ab7-4430-4ae5-cb52-7c05e8e267d4"
      },
      "execution_count": 36,
      "outputs": [
        {
          "output_type": "stream",
          "name": "stdout",
          "text": [
            "*****\n",
            "*****\n",
            "*****\n",
            "*****\n",
            "*****\n"
          ]
        }
      ]
    },
    {
      "cell_type": "code",
      "source": [
        "#또는\n",
        "for i in range(5):\n",
        "    print(\"*\"*5)"
      ],
      "metadata": {
        "colab": {
          "base_uri": "https://localhost:8080/"
        },
        "id": "vWKBNJkLbbZT",
        "outputId": "dc6bb1e7-1c93-4d18-d948-ada11d63aa6c"
      },
      "execution_count": 39,
      "outputs": [
        {
          "output_type": "stream",
          "name": "stdout",
          "text": [
            "*****\n",
            "*****\n",
            "*****\n",
            "*****\n",
            "*****\n"
          ]
        }
      ]
    },
    {
      "cell_type": "markdown",
      "source": [
        "Q2-2. for문으로 세모 찍기\n",
        "<pre>\n",
        "*\n",
        "**\n",
        "***\n",
        "****\n",
        "*****</pre>"
      ],
      "metadata": {
        "id": "PMEH98yldWVV"
      }
    },
    {
      "cell_type": "code",
      "source": [
        "#차라리 이게 쉬운 거 같아 \n",
        "for i in range(1, 6):\n",
        "  print('*' * i)"
      ],
      "metadata": {
        "colab": {
          "base_uri": "https://localhost:8080/"
        },
        "id": "QAnFwysObi0h",
        "outputId": "c86b6da3-c80b-4284-a33f-e2d19e3e4443"
      },
      "execution_count": 42,
      "outputs": [
        {
          "output_type": "stream",
          "name": "stdout",
          "text": [
            "*\n",
            "**\n",
            "***\n",
            "****\n",
            "*****\n"
          ]
        }
      ]
    },
    {
      "cell_type": "markdown",
      "source": [
        "Q2-2-1. input으로 숫자를 받아서 출력하기 "
      ],
      "metadata": {
        "id": "UrlA7kPae0Ac"
      }
    },
    {
      "cell_type": "code",
      "source": [
        "a = int(input('몇 줄의 삼각형을 출력하시겠습니까? '))\n",
        "for i in range(a+1):\n",
        "  print('*' * i)"
      ],
      "metadata": {
        "colab": {
          "base_uri": "https://localhost:8080/"
        },
        "id": "qhu3Vo_sdie3",
        "outputId": "12cd18d4-8a24-48c1-e65e-7e1d32cc9b07"
      },
      "execution_count": 1,
      "outputs": [
        {
          "output_type": "stream",
          "name": "stdout",
          "text": [
            "몇 줄의 삼각형을 출력하시겠습니까? 5\n",
            "\n",
            "*\n",
            "**\n",
            "***\n",
            "****\n",
            "*****\n"
          ]
        }
      ]
    },
    {
      "cell_type": "markdown",
      "source": [
        "**이번주 과제**\n",
        "\n",
        "\n",
        "num = 71\n",
        "\n",
        "running = True\n",
        "\n",
        "while running:\n",
        "\n",
        "  guess = int(input(\"숫자를 입력하세요\"))\n",
        "\n"
      ],
      "metadata": {
        "id": "QI_OL-KAiCw9"
      }
    },
    {
      "cell_type": "code",
      "source": [
        "num = 71\n",
        "running = True\n",
        "while running:\n",
        "  guess = int(input(\"숫자를 입력하세요. \"))\n",
        "  if guess < 71:\n",
        "    print(\"더 큰 숫자를 입력해주세요. \")\n",
        "  elif guess > 71:\n",
        "    print(\"더 작은 숫자를 입력해주세요. \")\n",
        "  else:\n",
        "    running = False\n",
        "    print(\"정답입니다.\")\n"
      ],
      "metadata": {
        "colab": {
          "base_uri": "https://localhost:8080/"
        },
        "id": "m63J3PgueRFl",
        "outputId": "899ff30a-a044-4736-f465-70dc38c98e06"
      },
      "execution_count": 2,
      "outputs": [
        {
          "output_type": "stream",
          "name": "stdout",
          "text": [
            "숫자를 입력하세요60\n",
            "더 큰 숫자를 입력해주세요.\n",
            "숫자를 입력하세요80\n",
            "더 작은 숫자를 입력해주세요.\n",
            "숫자를 입력하세요71\n",
            "정답입니다.\n"
          ]
        }
      ]
    },
    {
      "cell_type": "markdown",
      "source": [
        "advanced: 난수를 발생시켜서 적용해보자! "
      ],
      "metadata": {
        "id": "c_gblJ72kLkg"
      }
    },
    {
      "cell_type": "code",
      "source": [
        "#"
      ],
      "metadata": {
        "id": "YTEOUm9ZjEsq"
      },
      "execution_count": null,
      "outputs": []
    }
  ]
}